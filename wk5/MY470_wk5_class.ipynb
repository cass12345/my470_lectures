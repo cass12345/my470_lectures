{
 "cells": [
  {
   "cell_type": "markdown",
   "metadata": {
    "slideshow": {
     "slide_type": "slide"
    }
   },
   "source": [
    "### MY470 Computer Programming\n",
    "# Programming in Teams\n",
    "### Week 5 Lab"
   ]
  },
  {
   "cell_type": "markdown",
   "metadata": {
    "slideshow": {
     "slide_type": "slide"
    }
   },
   "source": [
    "## Classes"
   ]
  },
  {
   "cell_type": "code",
   "execution_count": 1,
   "metadata": {
    "slideshow": {
     "slide_type": "-"
    }
   },
   "outputs": [],
   "source": [
    "class MyClass(object):\n",
    "    \"\"\"DocString to define class.\"\"\" \n",
    "    # DocString, not comments. DocStrings are for users, and will travel with the class.\n",
    "    # Information about the implemention (not abstraction) giving concrete meaning \n",
    "    # to the abstract methods.   \n",
    "    \n",
    "    # Special Method: Always FIRST\n",
    "    def __init__(self, vals):\n",
    "        \"\"\"Create a new instance from class.\"\"\"\n",
    "        \n",
    "        # \"__\" is two underscores. \n",
    "        # A constructor method is a special function that creates an instance of the class.\n",
    "        # Any initalising you would like to do with your class object.\n",
    "        # Data attributes are defined here with the \"self.\" prefix\n",
    "        self.vals = vals\n",
    "    \n",
    "    def class_methods(self, arg):\n",
    "        \"\"\"DocString to describe method.\"\"\"\n",
    "        \n",
    "        # Some methods that do something. Get() and set() methods are common.\n",
    "        # Self is used to represent the instance of the class. \n",
    "        # When working out the structure we can originally just leave \"pass\".\n",
    "        pass\n",
    "    \n",
    "    # Special Method: Always LAST\n",
    "    def __str__(self): \n",
    "        \"\"\"Return a string representation of object.\"\"\"\n",
    "        \n",
    "        # Define here how you want the Class Instance to be printed. \n",
    "        # Otherwise, you will get the location (where the Class Instance is stored)\n",
    "        return sorted(self.vals)\n"
   ]
  },
  {
   "cell_type": "markdown",
   "metadata": {
    "slideshow": {
     "slide_type": "slide"
    }
   },
   "source": [
    "## Iterables\n",
    "\n",
    "When you create a list, you can read its items one by one. Reading its items one by one is called iteration."
   ]
  },
  {
   "cell_type": "code",
   "execution_count": 2,
   "metadata": {
    "slideshow": {
     "slide_type": "-"
    }
   },
   "outputs": [
    {
     "name": "stdout",
     "output_type": "stream",
     "text": [
      "0\n",
      "1\n",
      "4\n"
     ]
    }
   ],
   "source": [
    "mylist = [x*x for x in range(3)]\n",
    "for i in mylist:\n",
    "    print(i)"
   ]
  },
  {
   "cell_type": "markdown",
   "metadata": {
    "slideshow": {
     "slide_type": "-"
    }
   },
   "source": [
    "`mylist` is an iterable. When you use a list comprehension, you create a list, and so an iterable. Everything you can use ```for... in...``` on is an iterable: lists, strings, collections, files...\n",
    "\n",
    "\n",
    "These iterables are handy because you can read them as much as you wish. However, you store all the values in memory and this is not always what you want when you have a lot of values.\n"
   ]
  },
  {
   "cell_type": "markdown",
   "metadata": {
    "slideshow": {
     "slide_type": "slide"
    }
   },
   "source": [
    "## Generators\n",
    "\n",
    "[Source](https://stackoverflow.com/questions/231767/what-does-the-yield-keyword-do)\n",
    "\n",
    "Generators are iterators, a kind of iterable **you can only iterate over once**. Generators do not store all the values in memory, they generate the values on the fly.\n"
   ]
  },
  {
   "cell_type": "code",
   "execution_count": 5,
   "metadata": {
    "slideshow": {
     "slide_type": "-"
    }
   },
   "outputs": [
    {
     "name": "stdout",
     "output_type": "stream",
     "text": [
      "0\n",
      "1\n",
      "4\n"
     ]
    }
   ],
   "source": [
    "mygenerator = (x*x for x in range(3))\n",
    "\n",
    "for i in mygenerator:\n",
    "    print(i)"
   ]
  },
  {
   "cell_type": "markdown",
   "metadata": {
    "slideshow": {
     "slide_type": "-"
    }
   },
   "source": [
    "The syntax is the same except you used ```()``` instead of ```[]```. BUT, you cannot perform ```for i in mygenerator``` a second time since generators can only be used once: they calculate 0, then forget about it and calculate 1, and end calculating 4, one by one."
   ]
  },
  {
   "cell_type": "code",
   "execution_count": 6,
   "metadata": {
    "slideshow": {
     "slide_type": "-"
    }
   },
   "outputs": [],
   "source": [
    "for i in mygenerator:\n",
    "    print(i)"
   ]
  },
  {
   "cell_type": "markdown",
   "metadata": {
    "slideshow": {
     "slide_type": "slide"
    }
   },
   "source": [
    "## Yield\n",
    "\n",
    "```yield``` is a keyword that is used like ```return```, except the function will return a generator.\n"
   ]
  },
  {
   "cell_type": "code",
   "execution_count": 7,
   "metadata": {
    "slideshow": {
     "slide_type": "-"
    }
   },
   "outputs": [
    {
     "name": "stdout",
     "output_type": "stream",
     "text": [
      "<generator object createGenerator at 0x108606400>\n",
      "0\n",
      "1\n",
      "4\n"
     ]
    }
   ],
   "source": [
    "def createGenerator():\n",
    "    mylist = range(3)\n",
    "    for i in mylist:\n",
    "        yield i*i\n",
    "\n",
    "mygenerator = createGenerator() # create a generator\n",
    "print(mygenerator) # mygenerator is an object!\n",
    "\n",
    "for i in mygenerator:\n",
    "    print(i)"
   ]
  },
  {
   "cell_type": "markdown",
   "metadata": {
    "slideshow": {
     "slide_type": "slide"
    }
   },
   "source": [
    "## Yield\n",
    "\n",
    "When you call the function, the code you have written in the function body does not run. The function only returns the generator object.\n",
    "\n",
    "**Then, your code will continue from where it left off each time ```for``` uses the generator.**"
   ]
  },
  {
   "cell_type": "code",
   "execution_count": 9,
   "metadata": {
    "slideshow": {
     "slide_type": "-"
    }
   },
   "outputs": [
    {
     "name": "stdout",
     "output_type": "stream",
     "text": [
      "This is printed first\n"
     ]
    },
    {
     "data": {
      "text/plain": [
       "1"
      ]
     },
     "execution_count": 9,
     "metadata": {},
     "output_type": "execute_result"
    }
   ],
   "source": [
    "def my_gen():\n",
    "    n = 1\n",
    "    print('This is printed first')\n",
    "    # Generator function contains yield statements\n",
    "    yield n\n",
    "\n",
    "    n += 1\n",
    "    print('This is printed second')\n",
    "    yield n\n",
    "\n",
    "    n += 1\n",
    "    print('This is printed at last')\n",
    "    yield n\n",
    "    \n",
    "# It returns an object but does not start execution immediately.\n",
    "a = my_gen()\n",
    "\n",
    "# We can iterate through the items using next().\n",
    "next(a)"
   ]
  },
  {
   "cell_type": "code",
   "execution_count": 10,
   "metadata": {
    "slideshow": {
     "slide_type": "fragment"
    }
   },
   "outputs": [
    {
     "name": "stdout",
     "output_type": "stream",
     "text": [
      "This is printed second\n",
      "2\n",
      "This is printed at last\n",
      "3\n"
     ]
    }
   ],
   "source": [
    "# Once the function yields, the function is paused and the control is transferred to the caller.\n",
    "\n",
    "# Local variables and their states are remembered between successive calls.\n",
    "print(next(a))\n",
    "print(next(a))"
   ]
  },
  {
   "cell_type": "code",
   "execution_count": 11,
   "metadata": {
    "slideshow": {
     "slide_type": "fragment"
    }
   },
   "outputs": [
    {
     "ename": "StopIteration",
     "evalue": "",
     "output_type": "error",
     "traceback": [
      "\u001b[0;31m---------------------------------------------------------------------------\u001b[0m",
      "\u001b[0;31mStopIteration\u001b[0m                             Traceback (most recent call last)",
      "Cell \u001b[0;32mIn[11], line 3\u001b[0m\n\u001b[1;32m      1\u001b[0m \u001b[38;5;66;03m# Finally, when the function terminates, StopIteration is raised automatically on further calls.\u001b[39;00m\n\u001b[1;32m      2\u001b[0m \u001b[38;5;66;03m# Generators can only be called once.\u001b[39;00m\n\u001b[0;32m----> 3\u001b[0m \u001b[38;5;28;43mnext\u001b[39;49m\u001b[43m(\u001b[49m\u001b[43ma\u001b[49m\u001b[43m)\u001b[49m\n",
      "\u001b[0;31mStopIteration\u001b[0m: "
     ]
    }
   ],
   "source": [
    "# Finally, when the function terminates, StopIteration is raised automatically on further calls.\n",
    "# Generators can only be called once.\n",
    "next(a)"
   ]
  },
  {
   "cell_type": "markdown",
   "metadata": {
    "slideshow": {
     "slide_type": "notes"
    }
   },
   "source": [
    "\n",
    "So ...\n",
    "- The first time ```for``` calls the generator object created from your function, it will run the code in your function from the beginning until it hits ```yield```, then it'll return the first value of the loop. \n",
    "- Then, each subsequent call will run another iteration of the loop you have written in the function and return the next value. This will continue until the generator is considered empty, which happens when the function runs without hitting ```yield```. \n",
    "- That can be because the loop has come to an end, or because you no longer satisfy an ```if / else``` statement."
   ]
  },
  {
   "cell_type": "markdown",
   "metadata": {
    "slideshow": {
     "slide_type": "slide"
    }
   },
   "source": [
    "## GitHub as a Collaboration Tool\n",
    "\n",
    "1. Split the work.\n",
    "2. Clone repository locally.\n",
    "3. Create a branch to make changes. \n",
    "4. Open pull request to get feedback and improve iteratively.\n",
    "5. Finally, merge branch to master/main.\n",
    "6. You can use either VS Code or the browser for this and for managing issues.\n",
    "\n",
    "![GitHub branch](figs/github-branch.png \"GitHub branch\")\n"
   ]
  },
  {
   "cell_type": "markdown",
   "metadata": {
    "slideshow": {
     "slide_type": "slide"
    }
   },
   "source": [
    "## VS Code: Helpful Tutorials\n",
    "\n",
    "* [Creating branches](https://www.youtube.com/watch?v=i_23KUAEtUM)\n",
    "* [Pull requests](https://www.youtube.com/watch?v=LdSwWxVzUpo)\n",
    "* [Resolving merge conflicts](https://www.youtube.com/watch?v=HosPml1qkrg)\n",
    "* [Managing issues](https://leonardomontini.dev/manage-issues-vscode-github/)\n"
   ]
  },
  {
   "cell_type": "markdown",
   "metadata": {
    "slideshow": {
     "slide_type": "slide"
    }
   },
   "source": [
    "## VS Code: Create a New Branch\n",
    "\n",
    "\n",
    "![Create a new branch in VS Code](figs/vs_new_branch.png \"Create a new branch in VS Code\")"
   ]
  },
  {
   "cell_type": "markdown",
   "metadata": {
    "slideshow": {
     "slide_type": "slide"
    }
   },
   "source": [
    "## VS Code: After Committing Changes, Open Pull Request\n",
    "\n",
    "\n",
    "![Open pull request in VS Code](figs/vs_pull_request_1.png \"Open pull request in VS Code\")"
   ]
  },
  {
   "cell_type": "markdown",
   "metadata": {
    "slideshow": {
     "slide_type": "slide"
    }
   },
   "source": [
    "## VS Code: Pull Request Indicates How to Merge Branch\n",
    "\n",
    "\n",
    "![Pull request in VS Code](figs/vs_pull_request_2.png \"Pull request in VS Code\")"
   ]
  },
  {
   "cell_type": "markdown",
   "metadata": {
    "slideshow": {
     "slide_type": "slide"
    }
   },
   "source": [
    "## VS Code: Comment, Change, Merge\n",
    "\n",
    "\n",
    "![Merge pull request in VS Code](figs/vs_comment_merge.png \"erge pull request in VS Code\")"
   ]
  },
  {
   "cell_type": "markdown",
   "metadata": {
    "slideshow": {
     "slide_type": "slide"
    }
   },
   "source": [
    "## Browser: Create a New Branch When Uploading Changed File\n",
    "\n",
    "![Create a new branch](figs/branching.png \"Create a new branch\")"
   ]
  },
  {
   "cell_type": "markdown",
   "metadata": {
    "slideshow": {
     "slide_type": "slide"
    }
   },
   "source": [
    "## Browser: Open a Pull Request to Get Feedback (Automatically Directed There)\n",
    "\n",
    "![Open a pull request](figs/pull_request.png \"Open a pull request\")"
   ]
  },
  {
   "cell_type": "markdown",
   "metadata": {
    "slideshow": {
     "slide_type": "slide"
    }
   },
   "source": [
    "## Browser: You (and Later Your Partner) Can View Your Changes Highlighted\n",
    "\n",
    "![View changes](figs/changes.png \"View changes\")"
   ]
  },
  {
   "cell_type": "markdown",
   "metadata": {
    "slideshow": {
     "slide_type": "slide"
    }
   },
   "source": [
    "## Browser: Wait for Comments from Partner Before Merging\n",
    "\n",
    "![Merge after comments](figs/merge.png \"Merge after comments\")"
   ]
  },
  {
   "cell_type": "markdown",
   "metadata": {
    "slideshow": {
     "slide_type": "slide"
    }
   },
   "source": [
    "## Browser: Confirm Merge\n",
    "\n",
    "![Confirm merge](figs/confirm_merge.png \"Confirm merge\")"
   ]
  },
  {
   "cell_type": "markdown",
   "metadata": {
    "slideshow": {
     "slide_type": "slide"
    }
   },
   "source": [
    "## Browser: Open Issues to Discuss Problems and Ask Partner for Help\n",
    "\n",
    "![Open a new issue](figs/open_issue.png \"Open a new issue\")"
   ]
  },
  {
   "cell_type": "markdown",
   "metadata": {
    "slideshow": {
     "slide_type": "slide"
    }
   },
   "source": [
    "## Browser: Open Issues to Discuss Problems and Ask Partner for Help\n",
    "\n",
    "![Submit new issue](figs/submit_issue.png \"Submit new issue\")"
   ]
  },
  {
   "cell_type": "markdown",
   "metadata": {
    "slideshow": {
     "slide_type": "slide"
    }
   },
   "source": [
    "## Browser: Discuss and Close Issue When Resolved\n",
    "\n",
    "![Discuss](figs/discuss.png \"Discuss\")"
   ]
  },
  {
   "cell_type": "code",
   "execution_count": 12,
   "metadata": {
    "collapsed": true,
    "slideshow": {
     "slide_type": "slide"
    }
   },
   "outputs": [],
   "source": [
    "# Exercise 1: Work with the person next to you to design \n",
    "# classes to manage the products, customers, and purchase \n",
    "# orders for an online book store such as amazon.com. \n",
    "# Outline the data attributes and useful methods for \n",
    "# each class. You can discuss and create the outline together. \n",
    "\n",
    "from datetime import datetime\n",
    "from typing import List, Dict\n",
    "\n",
    "\n",
    "class Product:\n",
    "    def __init__(self, product_id: str, title: str, author: str, price: float, stock: int, category: str, description: str):\n",
    "        self.product_id = product_id\n",
    "        self.title = title\n",
    "        self.author = author\n",
    "        self.price = price\n",
    "        self.stock = stock\n",
    "        self.category = category\n",
    "        self.description = description\n",
    "\n",
    "    def update_stock(self, quantity: int):\n",
    "        self.stock += quantity\n",
    "\n",
    "    def apply_discount(self, percentage: float):\n",
    "        discount_amount = self.price * (percentage / 100)\n",
    "        self.price -= discount_amount\n",
    "\n",
    "    def is_in_stock(self) -> bool:\n",
    "        return self.stock > 0\n",
    "\n",
    "    def get_product_info(self) -> dict:\n",
    "        return {\n",
    "            \"product_id\": self.product_id,\n",
    "            \"title\": self.title,\n",
    "            \"author\": self.author,\n",
    "            \"price\": self.price,\n",
    "            \"stock\": self.stock,\n",
    "            \"category\": self.category,\n",
    "            \"description\": self.description\n",
    "        }\n",
    "\n",
    "\n",
    "class Customer:\n",
    "    def __init__(self, customer_id: str, name: str, email: str, address: str, phone: str):\n",
    "        self.customer_id = customer_id\n",
    "        self.name = name\n",
    "        self.email = email\n",
    "        self.address = address\n",
    "        self.phone = phone\n",
    "        self.order_history: List[Order] = []\n",
    "        self.wishlist: List[Product] = []\n",
    "\n",
    "    def add_to_wishlist(self, product: Product):\n",
    "        if product not in self.wishlist:\n",
    "            self.wishlist.append(product)\n",
    "\n",
    "    def remove_from_wishlist(self, product: Product):\n",
    "        if product in self.wishlist:\n",
    "            self.wishlist.remove(product)\n",
    "\n",
    "    def place_order(self, order: 'Order'):\n",
    "        self.order_history.append(order)\n",
    "\n",
    "    def get_order_history(self) -> List['Order']:\n",
    "        return self.order_history\n",
    "\n",
    "    def update_address(self, new_address: str):\n",
    "        self.address = new_address\n",
    "\n",
    "\n",
    "class Order:\n",
    "    def __init__(self, order_id: str, customer: Customer):\n",
    "        self.order_id = order_id\n",
    "        self.customer = customer\n",
    "        self.products: Dict[Product, int] = {}  # Dictionary with Product as key and quantity as value\n",
    "        self.order_date = datetime.now()\n",
    "        self.total_price = 0.0\n",
    "        self.status = \"Pending\"\n",
    "\n",
    "    def calculate_total_price(self) -> float:\n",
    "        self.total_price = sum(product.price * quantity for product, quantity in self.products.items())\n",
    "        return self.total_price\n",
    "\n",
    "    def add_product(self, product: Product, quantity: int):\n",
    "        if product.is_in_stock() and product.stock >= quantity:\n",
    "            self.products[product] = self.products.get(product, 0) + quantity\n",
    "            product.update_stock(-quantity)\n",
    "            self.calculate_total_price()\n",
    "\n",
    "    def remove_product(self, product: Product):\n",
    "        if product in self.products:\n",
    "            quantity = self.products.pop(product)\n",
    "            product.update_stock(quantity)\n",
    "            self.calculate_total_price()\n",
    "\n",
    "    def update_status(self, new_status: str):\n",
    "        self.status = new_status\n",
    "\n",
    "    def get_order_summary(self) -> dict:\n",
    "        return {\n",
    "            \"order_id\": self.order_id,\n",
    "            \"customer\": self.customer.name,\n",
    "            \"products\": {product.title: quantity for product, quantity in self.products.items()},\n",
    "            \"order_date\": self.order_date,\n",
    "            \"total_price\": self.total_price,\n",
    "            \"status\": self.status\n",
    "        }\n",
    "\n",
    "\n",
    "\n",
    "\n"
   ]
  },
  {
   "cell_type": "code",
   "execution_count": null,
   "metadata": {
    "collapsed": true,
    "slideshow": {
     "slide_type": "-"
    }
   },
   "outputs": [],
   "source": [
    "# Exercise 2: Create a new repository in your account and upload \n",
    "# the class hierarchy you created. Add your partner as collaborator\n",
    "# (Settings -> Collaborators and teams -> Add people).\n",
    "# Practice cloning locally, creating a branch, making changes in the branch, \n",
    "# opening a pull request, commenting, and merging the pull request. \n",
    "\n"
   ]
  },
  {
   "cell_type": "code",
   "execution_count": null,
   "metadata": {
    "collapsed": true,
    "slideshow": {
     "slide_type": "-"
    }
   },
   "outputs": [],
   "source": [
    "# Exercise 3: Open a new issue in your partner's repository. \n",
    "\n"
   ]
  }
 ],
 "metadata": {
  "celltoolbar": "Slideshow",
  "kernelspec": {
   "display_name": "320_env",
   "language": "python",
   "name": "python3"
  },
  "language_info": {
   "codemirror_mode": {
    "name": "ipython",
    "version": 3
   },
   "file_extension": ".py",
   "mimetype": "text/x-python",
   "name": "python",
   "nbconvert_exporter": "python",
   "pygments_lexer": "ipython3",
   "version": "3.11.4"
  }
 },
 "nbformat": 4,
 "nbformat_minor": 2
}
